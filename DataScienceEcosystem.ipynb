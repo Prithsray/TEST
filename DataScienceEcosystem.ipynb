{
  "nbformat": 4,
  "nbformat_minor": 0,
  "metadata": {
    "colab": {
      "provenance": [],
      "authorship_tag": "ABX9TyMIxK8mYF/1XOdib6NbwCut",
      "include_colab_link": true
    },
    "kernelspec": {
      "name": "python3",
      "display_name": "Python 3"
    },
    "language_info": {
      "name": "python"
    }
  },
  "cells": [
    {
      "cell_type": "markdown",
      "metadata": {
        "id": "view-in-github",
        "colab_type": "text"
      },
      "source": [
        "<a href=\"https://colab.research.google.com/github/Prithsray/TEST/blob/main/DataScienceEcosystem.ipynb\" target=\"_parent\"><img src=\"https://colab.research.google.com/assets/colab-badge.svg\" alt=\"Open In Colab\"/></a>"
      ]
    },
    {
      "cell_type": "code",
      "execution_count": null,
      "metadata": {
        "id": "eDugBOUP3Tex"
      },
      "outputs": [],
      "source": []
    },
    {
      "cell_type": "markdown",
      "source": [
        "# Data Science Tools and Ecosystem"
      ],
      "metadata": {
        "id": "VHtd6_Hy3pBA"
      }
    },
    {
      "cell_type": "markdown",
      "source": [
        "# In this notebook, Data Science Tools and Ecosystem are summarized."
      ],
      "metadata": {
        "id": "s15ffgEY3f0t"
      }
    },
    {
      "cell_type": "markdown",
      "source": [
        "# Some of the popular languages that Data Scientists use are:\n",
        "1.Java<br>\n",
        "2.Python<br>\n",
        "3.R\n"
      ],
      "metadata": {
        "id": "_8oeNmMA44ZQ"
      }
    },
    {
      "cell_type": "markdown",
      "source": [
        "# Some of the commonly used libraries used by Data Scientists include:\n",
        "1.scikit<br>\n",
        "2.pytorch<br>\n",
        "3.keras"
      ],
      "metadata": {
        "id": "4Svo02iY5ZcS"
      }
    },
    {
      "cell_type": "markdown",
      "source": [
        "# Data Science Tools\n",
        "<table>\n",
        "<tr>\n",
        "<td>Apache Spark</td>\n",
        "</tr>\n",
        "<tr>\n",
        "<td>Power Bi</td>\n",
        "</tr>\n",
        "<tr>\n",
        "<td>IBM Watson Studio</td>\n",
        "</tr>"
      ],
      "metadata": {
        "id": "lQhgJ2Lc5ys0"
      }
    },
    {
      "cell_type": "markdown",
      "source": [
        "### Below are a few examples of evaluating arithmetic expressions in Python"
      ],
      "metadata": {
        "id": "7VO5nOFu6gkq"
      }
    },
    {
      "cell_type": "code",
      "source": [
        "#This a simple arithmetic expression to mutiply then add integers\n",
        "(3*4)+5"
      ],
      "metadata": {
        "colab": {
          "base_uri": "https://localhost:8080/"
        },
        "id": "xyhlnCDT60sf",
        "outputId": "b97263f9-e54d-4c2c-c374-bf9d9521aa0c"
      },
      "execution_count": 2,
      "outputs": [
        {
          "output_type": "execute_result",
          "data": {
            "text/plain": [
              "17"
            ]
          },
          "metadata": {},
          "execution_count": 2
        }
      ]
    },
    {
      "cell_type": "code",
      "source": [
        "#This will convert 200 minutes to hours by diving by 60\n",
        "total_minutes = 200\n",
        "hours = total_minutes // 60\n",
        "\n",
        "\n",
        "print(hours)"
      ],
      "metadata": {
        "colab": {
          "base_uri": "https://localhost:8080/"
        },
        "id": "xgrwdBta7c6z",
        "outputId": "90b1dff4-3e74-4b9a-aee9-1337a9ca1601"
      },
      "execution_count": 5,
      "outputs": [
        {
          "output_type": "stream",
          "name": "stdout",
          "text": [
            "3\n"
          ]
        }
      ]
    },
    {
      "cell_type": "markdown",
      "source": [
        "**Objectives:**\n",
        "\n",
        "\n",
        "*   Some Popular languages in Datascience\n",
        "*   Introduction to R Studio and Juputer notebook\n",
        "*   Git And Github Introduction\n",
        "\n",
        "\n",
        "\n",
        "\n"
      ],
      "metadata": {
        "id": "lD0KlCO-8ARl"
      }
    },
    {
      "cell_type": "markdown",
      "source": [
        "## Author\n",
        "Prithwish Raymahapatra"
      ],
      "metadata": {
        "id": "kx0xnvNl9RxB"
      }
    }
  ]
}